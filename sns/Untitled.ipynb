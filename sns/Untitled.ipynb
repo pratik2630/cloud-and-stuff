{
 "cells": [
  {
   "cell_type": "code",
   "execution_count": 1,
   "id": "a78e061e",
   "metadata": {},
   "outputs": [],
   "source": [
    "import boto3"
   ]
  },
  {
   "cell_type": "code",
   "execution_count": 2,
   "id": "be746695",
   "metadata": {},
   "outputs": [],
   "source": [
    "mysns = boto3.client('sns')"
   ]
  },
  {
   "cell_type": "code",
   "execution_count": 3,
   "id": "14e0a594",
   "metadata": {},
   "outputs": [
    {
     "data": {
      "text/plain": [
       "{'MessageId': '9b7eaf6b-9cee-5f5e-877e-f228b218c832',\n",
       " 'ResponseMetadata': {'RequestId': '7e22c227-02b9-5ad9-99e7-9f642c4ffdb5',\n",
       "  'HTTPStatusCode': 200,\n",
       "  'HTTPHeaders': {'x-amzn-requestid': '7e22c227-02b9-5ad9-99e7-9f642c4ffdb5',\n",
       "   'content-type': 'text/xml',\n",
       "   'content-length': '294',\n",
       "   'date': 'Tue, 01 Aug 2023 16:03:01 GMT'},\n",
       "  'RetryAttempts': 0}}"
      ]
     },
     "execution_count": 3,
     "metadata": {},
     "output_type": "execute_result"
    }
   ],
   "source": [
    "mysns.publish(\n",
    "    TopicArn='arn:aws:sns:ap-south-1:147487995361:s3_delete_event',\n",
    "    Message='Message fron Simple notification service with python boto3',\n",
    "    Subject='Testing !!!',\n",
    ")"
   ]
  },
  {
   "cell_type": "code",
   "execution_count": null,
   "id": "30a8317b",
   "metadata": {},
   "outputs": [],
   "source": []
  }
 ],
 "metadata": {
  "kernelspec": {
   "display_name": "Python 3 (ipykernel)",
   "language": "python",
   "name": "python3"
  },
  "language_info": {
   "codemirror_mode": {
    "name": "ipython",
    "version": 3
   },
   "file_extension": ".py",
   "mimetype": "text/x-python",
   "name": "python",
   "nbconvert_exporter": "python",
   "pygments_lexer": "ipython3",
   "version": "3.10.9"
  }
 },
 "nbformat": 4,
 "nbformat_minor": 5
}
