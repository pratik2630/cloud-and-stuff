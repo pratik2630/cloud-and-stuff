{
 "cells": [
  {
   "cell_type": "code",
   "execution_count": 1,
   "id": "a78e061e",
   "metadata": {},
   "outputs": [],
   "source": [
    "import boto3"
   ]
  },
  {
   "cell_type": "code",
   "execution_count": 3,
   "id": "c929a803",
   "metadata": {},
   "outputs": [],
   "source": [
    "mysns = boto3.client('sns')"
   ]
  },
  {
   "cell_type": "code",
   "execution_count": null,
   "id": "8c296bd1",
   "metadata": {},
   "outputs": [],
   "source": []
  }
 ],
 "metadata": {
  "kernelspec": {
   "display_name": "Python 3 (ipykernel)",
   "language": "python",
   "name": "python3"
  },
  "language_info": {
   "codemirror_mode": {
    "name": "ipython",
    "version": 3
   },
   "file_extension": ".py",
   "mimetype": "text/x-python",
   "name": "python",
   "nbconvert_exporter": "python",
   "pygments_lexer": "ipython3",
   "version": "3.10.9"
  }
 },
 "nbformat": 4,
 "nbformat_minor": 5
}
