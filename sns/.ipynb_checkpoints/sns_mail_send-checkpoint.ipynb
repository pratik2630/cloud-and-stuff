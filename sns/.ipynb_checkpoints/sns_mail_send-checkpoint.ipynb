{
 "cells": [
  {
   "cell_type": "code",
   "execution_count": 1,
   "id": "a78e061e",
   "metadata": {},
   "outputs": [],
   "source": [
    "import boto3"
   ]
  },
  {
   "cell_type": "code",
   "execution_count": 2,
   "id": "be746695",
   "metadata": {},
   "outputs": [],
   "source": [
    "mysns = boto3.client('sns')"
   ]
  },
  {
   "cell_type": "code",
   "execution_count": 4,
   "id": "14e0a594",
   "metadata": {},
   "outputs": [],
   "source": [
    "import boto3\n",
    "mysns = boto3.client(\"sns\")\n",
    "\n",
    "def snsEmail( x , y ):\n",
    "    output = mysns.publish(\n",
    "          Message='critical alert s3 file deleted',\n",
    "          Subject='s3 objet deleted',\n",
    "          TopicArn='<topicARN>',\n",
    "                    )\n",
    "    return(output)"
   ]
  },
  {
   "cell_type": "code",
   "execution_count": null,
   "id": "324fcb7f",
   "metadata": {},
   "outputs": [],
   "source": []
  }
 ],
 "metadata": {
  "kernelspec": {
   "display_name": "Python 3 (ipykernel)",
   "language": "python",
   "name": "python3"
  },
  "language_info": {
   "codemirror_mode": {
    "name": "ipython",
    "version": 3
   },
   "file_extension": ".py",
   "mimetype": "text/x-python",
   "name": "python",
   "nbconvert_exporter": "python",
   "pygments_lexer": "ipython3",
   "version": "3.10.9"
  }
 },
 "nbformat": 4,
 "nbformat_minor": 5
}
