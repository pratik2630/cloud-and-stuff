{
 "cells": [
  {
   "cell_type": "code",
   "execution_count": null,
   "id": "ec6cfd7c",
   "metadata": {},
   "outputs": [],
   "source": [
    "pip install boto3"
   ]
  },
  {
   "cell_type": "code",
   "execution_count": null,
   "id": "e13a9568",
   "metadata": {},
   "outputs": [],
   "source": [
    "import boto3"
   ]
  },
  {
   "cell_type": "code",
   "execution_count": null,
   "id": "d70df6e5",
   "metadata": {},
   "outputs": [],
   "source": [
    "client = boto3.client('ec2')"
   ]
  },
  {
   "cell_type": "code",
   "execution_count": null,
   "id": "2de87833",
   "metadata": {},
   "outputs": [],
   "source": [
    "response = client.run_instances(ImageId='ami-0ded8326293d3201b',InstanceType=\"t2.micro\",MaxCount=1,MinCount=1,  TagSpecifications=[\n",
    "        {\n",
    "            'ResourceType': 'instance',\n",
    "            'Tags': [\n",
    "                {\n",
    "                    'Key': 'Name',\n",
    "                    'Value': 'test2'\n",
    "                },\n",
    "            ]\n",
    "        },\n",
    "    ])"
   ]
  },
  {
   "cell_type": "code",
   "execution_count": null,
   "id": "ad47cbc6",
   "metadata": {},
   "outputs": [],
   "source": [
    "response = client.describe_instances()\n",
    "\n",
    "# Loop through reservations and instances to extract instance ID and name\n",
    "for reservation in response['Reservations']:\n",
    "    for instance in reservation['Instances']:\n",
    "        instance_id = instance['InstanceId']\n",
    "        instance_name = ''\n",
    "        # Extract the 'Name' tag if it exists\n",
    "        for tag in instance['Tags']:\n",
    "            if tag['Key'] == 'Name':\n",
    "                instance_name = tag['Value']\n",
    "                break\n",
    "\n",
    "        print(f\"Instance ID: {instance_id}, Name: {instance_name}\")"
   ]
  },
  {
   "cell_type": "code",
   "execution_count": null,
   "id": "dc4c0370",
   "metadata": {},
   "outputs": [],
   "source": [
    "instance_id_to_terminate = 'i-0c8aec1c645493a53'\n",
    "\n",
    "response = client.terminate_instances(InstanceIds=[instance_id_to_terminate])\n"
   ]
  },
  {
   "cell_type": "code",
   "execution_count": null,
   "id": "c397f7df",
   "metadata": {},
   "outputs": [],
   "source": []
  }
 ],
 "metadata": {
  "kernelspec": {
   "display_name": "Python 3 (ipykernel)",
   "language": "python",
   "name": "python3"
  },
  "language_info": {
   "codemirror_mode": {
    "name": "ipython",
    "version": 3
   },
   "file_extension": ".py",
   "mimetype": "text/x-python",
   "name": "python",
   "nbconvert_exporter": "python",
   "pygments_lexer": "ipython3",
   "version": "3.10.9"
  }
 },
 "nbformat": 4,
 "nbformat_minor": 5
}
