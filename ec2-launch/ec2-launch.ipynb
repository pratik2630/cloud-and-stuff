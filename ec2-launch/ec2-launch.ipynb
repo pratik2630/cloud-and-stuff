{
 "cells": [
  {
   "cell_type": "code",
   "execution_count": null,
   "id": "ec6cfd7c",
   "metadata": {},
   "outputs": [],
   "source": [
    "pip install boto3"
   ]
  },
  {
   "cell_type": "code",
   "execution_count": 2,
   "id": "e13a9568",
   "metadata": {},
   "outputs": [],
   "source": [
    "import boto3\n",
    "client = boto3.client('ec2')"
   ]
  },
  {
   "cell_type": "code",
   "execution_count": null,
   "id": "d70df6e5",
   "metadata": {},
   "outputs": [],
   "source": []
  },
  {
   "cell_type": "markdown",
   "id": "2017af15",
   "metadata": {},
   "source": [
    "# create instance"
   ]
  },
  {
   "cell_type": "code",
   "execution_count": null,
   "id": "bbe2e56c",
   "metadata": {},
   "outputs": [],
   "source": [
    "imgId=input(\"Instace id:\") #ami-0ded8326293d3201b\n",
    "name  = input(\"Instance name:\")\n",
    "instanceType = input(\"Instance Type:\") #t2.micro\n",
    "min = int(input(\"Minimum count:\")) #1\n",
    "max = int(input(\"Miximum count:\")) #1\n"
   ]
  },
  {
   "cell_type": "code",
   "execution_count": 3,
   "id": "2de87833",
   "metadata": {},
   "outputs": [
    {
     "ename": "NameError",
     "evalue": "name 'imgId' is not defined",
     "output_type": "error",
     "traceback": [
      "\u001b[1;31m---------------------------------------------------------------------------\u001b[0m",
      "\u001b[1;31mNameError\u001b[0m                                 Traceback (most recent call last)",
      "Cell \u001b[1;32mIn[3], line 2\u001b[0m\n\u001b[0;32m      1\u001b[0m response \u001b[38;5;241m=\u001b[39m client\u001b[38;5;241m.\u001b[39mrun_instances(\n\u001b[1;32m----> 2\u001b[0m     ImageId\u001b[38;5;241m=\u001b[39m\u001b[43mimgId\u001b[49m,\n\u001b[0;32m      3\u001b[0m     InstanceType\u001b[38;5;241m=\u001b[39minstanceType,\n\u001b[0;32m      4\u001b[0m     MinCount\u001b[38;5;241m=\u001b[39m\u001b[38;5;28mmin\u001b[39m,\n\u001b[0;32m      5\u001b[0m     MaxCount\u001b[38;5;241m=\u001b[39m\u001b[38;5;28mmax\u001b[39m,\n\u001b[0;32m      6\u001b[0m     TagSpecifications\u001b[38;5;241m=\u001b[39m[\n\u001b[0;32m      7\u001b[0m         {\n\u001b[0;32m      8\u001b[0m             \u001b[38;5;124m'\u001b[39m\u001b[38;5;124mResourceType\u001b[39m\u001b[38;5;124m'\u001b[39m: \u001b[38;5;124m'\u001b[39m\u001b[38;5;124minstance\u001b[39m\u001b[38;5;124m'\u001b[39m,\n\u001b[0;32m      9\u001b[0m             \u001b[38;5;124m'\u001b[39m\u001b[38;5;124mTags\u001b[39m\u001b[38;5;124m'\u001b[39m: [\n\u001b[0;32m     10\u001b[0m                 {\n\u001b[0;32m     11\u001b[0m                     \u001b[38;5;124m'\u001b[39m\u001b[38;5;124mKey\u001b[39m\u001b[38;5;124m'\u001b[39m: \u001b[38;5;124m'\u001b[39m\u001b[38;5;124mName\u001b[39m\u001b[38;5;124m'\u001b[39m,\n\u001b[0;32m     12\u001b[0m                     \u001b[38;5;124m'\u001b[39m\u001b[38;5;124mValue\u001b[39m\u001b[38;5;124m'\u001b[39m: name\n\u001b[0;32m     13\u001b[0m                 },\n\u001b[0;32m     14\u001b[0m             ]\n\u001b[0;32m     15\u001b[0m         },\n\u001b[0;32m     16\u001b[0m     ])\n\u001b[0;32m     18\u001b[0m \u001b[38;5;28mprint\u001b[39m(response)\n",
      "\u001b[1;31mNameError\u001b[0m: name 'imgId' is not defined"
     ]
    }
   ],
   "source": [
    "response = client.run_instances(\n",
    "    ImageId=imgId,\n",
    "    InstanceType=instanceType,\n",
    "    MinCount=min,\n",
    "    MaxCount=max,\n",
    "    TagSpecifications=[\n",
    "        {\n",
    "            'ResourceType': 'instance',\n",
    "            'Tags': [\n",
    "                {\n",
    "                    'Key': 'Name',\n",
    "                    'Value': name\n",
    "                },\n",
    "            ]\n",
    "        },\n",
    "    ])\n",
    "\n",
    "print(response)"
   ]
  },
  {
   "cell_type": "markdown",
   "id": "03c038ce",
   "metadata": {},
   "source": [
    "# Display instance"
   ]
  },
  {
   "cell_type": "code",
   "execution_count": null,
   "id": "ad47cbc6",
   "metadata": {},
   "outputs": [],
   "source": [
    "response = client.describe_instances()\n",
    "\n",
    "# Loop through reservations and instances to extract instance ID and name\n",
    "for reservation in response['Reservations']:\n",
    "    for instance in reservation['Instances']:\n",
    "        instance_id = instance['InstanceId']\n",
    "        instance_name = ''\n",
    "        instance_state = instance['State']['Name'] \n",
    "        # Extract the 'Name' tag if it exists\n",
    "        for tag in instance['Tags']:\n",
    "            if tag['Key'] == 'Name':\n",
    "                instance_name = tag['Value']\n",
    "                break\n",
    "\n",
    "        print(f\"Instance ID: {instance_id}, Name: {instance_name} , State:{instance_state}\")"
   ]
  },
  {
   "cell_type": "markdown",
   "id": "31e73d72",
   "metadata": {},
   "source": [
    "# Delete instance"
   ]
  },
  {
   "cell_type": "code",
   "execution_count": 5,
   "id": "b2c2a0a0",
   "metadata": {},
   "outputs": [
    {
     "name": "stdout",
     "output_type": "stream",
     "text": [
      "Enter instance id:i-0de11063de9363aec\n"
     ]
    }
   ],
   "source": [
    "instanceId = input(\"Enter instance id:\")"
   ]
  },
  {
   "cell_type": "code",
   "execution_count": 6,
   "id": "dc4c0370",
   "metadata": {},
   "outputs": [
    {
     "name": "stdout",
     "output_type": "stream",
     "text": [
      "{'TerminatingInstances': [{'CurrentState': {'Code': 32, 'Name': 'shutting-down'}, 'InstanceId': 'i-0de11063de9363aec', 'PreviousState': {'Code': 16, 'Name': 'running'}}], 'ResponseMetadata': {'RequestId': 'b3157c74-77de-4eb8-ab0a-da3d3be9f323', 'HTTPStatusCode': 200, 'HTTPHeaders': {'x-amzn-requestid': 'b3157c74-77de-4eb8-ab0a-da3d3be9f323', 'cache-control': 'no-cache, no-store', 'strict-transport-security': 'max-age=31536000; includeSubDomains', 'vary': 'accept-encoding', 'content-type': 'text/xml;charset=UTF-8', 'transfer-encoding': 'chunked', 'date': 'Sat, 05 Aug 2023 22:52:57 GMT', 'server': 'AmazonEC2'}, 'RetryAttempts': 0}}\n"
     ]
    }
   ],
   "source": [
    "\n",
    "response = client.terminate_instances(InstanceIds=[instanceId])\n",
    "print(response)\n"
   ]
  },
  {
   "cell_type": "code",
   "execution_count": null,
   "id": "c397f7df",
   "metadata": {},
   "outputs": [],
   "source": []
  },
  {
   "cell_type": "code",
   "execution_count": null,
   "id": "6a85ff59",
   "metadata": {},
   "outputs": [],
   "source": []
  }
 ],
 "metadata": {
  "kernelspec": {
   "display_name": "Python 3 (ipykernel)",
   "language": "python",
   "name": "python3"
  },
  "language_info": {
   "codemirror_mode": {
    "name": "ipython",
    "version": 3
   },
   "file_extension": ".py",
   "mimetype": "text/x-python",
   "name": "python",
   "nbconvert_exporter": "python",
   "pygments_lexer": "ipython3",
   "version": "3.10.9"
  }
 },
 "nbformat": 4,
 "nbformat_minor": 5
}
