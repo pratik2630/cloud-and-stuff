{
 "cells": [
  {
   "cell_type": "code",
   "execution_count": null,
   "id": "ec6cfd7c",
   "metadata": {},
   "outputs": [],
   "source": [
    "pip install boto3"
   ]
  },
  {
   "cell_type": "code",
   "execution_count": null,
   "id": "e13a9568",
   "metadata": {},
   "outputs": [],
   "source": [
    "import boto3\n",
    "client = boto3.client('ec2')"
   ]
  },
  {
   "cell_type": "code",
   "execution_count": null,
   "id": "d70df6e5",
   "metadata": {},
   "outputs": [],
   "source": []
  },
  {
   "cell_type": "markdown",
   "id": "de968661",
   "metadata": {},
   "source": [
    "# create instance"
   ]
  },
  {
   "cell_type": "code",
   "execution_count": null,
   "id": "c327d784",
   "metadata": {},
   "outputs": [],
   "source": [
    "imgId=input(\"Instace id:\") #ami-0ded8326293d3201b\n",
    "name  = input(\"Instance name:\")\n",
    "instanceType = input(\"Instance Type:\") #t2.micro\n",
    "min = int(input(\"Minimum count:\")) #1\n",
    "max = int(input(\"Miximum count:\")) #1\n"
   ]
  },
  {
   "cell_type": "code",
   "execution_count": null,
   "id": "2de87833",
   "metadata": {},
   "outputs": [],
   "source": [
    "response = client.run_instances(\n",
    "    ImageId=imgId,\n",
    "    InstanceType=instanceType,\n",
    "    MinCount=min,\n",
    "    MaxCount=max,\n",
    "    TagSpecifications=[\n",
    "        {\n",
    "            'ResourceType': 'instance',\n",
    "            'Tags': [\n",
    "                {\n",
    "                    'Key': 'Name',\n",
    "                    'Value': name\n",
    "                },\n",
    "            ]\n",
    "        },\n",
    "    ])\n",
    "\n",
    "print(response)"
   ]
  },
  {
   "cell_type": "markdown",
   "id": "b7fdfdf8",
   "metadata": {},
   "source": [
    "# Display instance"
   ]
  },
  {
   "cell_type": "code",
   "execution_count": null,
   "id": "ad47cbc6",
   "metadata": {},
   "outputs": [],
   "source": [
    "response = client.describe_instances()\n",
    "\n",
    "# Loop through reservations and instances to extract instance ID and name\n",
    "for reservation in response['Reservations']:\n",
    "    for instance in reservation['Instances']:\n",
    "        instance_id = instance['InstanceId']\n",
    "        instance_name = ''\n",
    "        instance_state = instance['State']['Name'] \n",
    "        # Extract the 'Name' tag if it exists\n",
    "        for tag in instance['Tags']:\n",
    "            if tag['Key'] == 'Name':\n",
    "                instance_name = tag['Value']\n",
    "                break\n",
    "\n",
    "        print(f\"Instance ID: {instance_id}, Name: {instance_name} , State:{instance_state}\")"
   ]
  },
  {
   "cell_type": "markdown",
   "id": "ffb319f2",
   "metadata": {},
   "source": [
    "# Delete instance"
   ]
  },
  {
   "cell_type": "code",
   "execution_count": null,
   "id": "1ee7a46b",
   "metadata": {},
   "outputs": [],
   "source": [
    "instanceId = input(\"Enter instance id:\")"
   ]
  },
  {
   "cell_type": "code",
   "execution_count": null,
   "id": "dc4c0370",
   "metadata": {},
   "outputs": [],
   "source": [
    "try:\n",
    "    response = client.terminate_instances(InstanceIds=[instanceId])\n",
    "    print(response)\n",
    "except Exception as e:\n",
    "    print(\"error================\")\n",
    "    print(f\"An error occurred: {str(e)}\")"
   ]
  },
  {
   "cell_type": "code",
   "execution_count": null,
   "id": "c397f7df",
   "metadata": {},
   "outputs": [],
   "source": []
  },
  {
   "cell_type": "code",
   "execution_count": null,
   "id": "bd26bfdd",
   "metadata": {},
   "outputs": [],
   "source": []
  }
 ],
 "metadata": {
  "kernelspec": {
   "display_name": "Python 3 (ipykernel)",
   "language": "python",
   "name": "python3"
  },
  "language_info": {
   "codemirror_mode": {
    "name": "ipython",
    "version": 3
   },
   "file_extension": ".py",
   "mimetype": "text/x-python",
   "name": "python",
   "nbconvert_exporter": "python",
   "pygments_lexer": "ipython3",
   "version": "3.10.9"
  }
 },
 "nbformat": 4,
 "nbformat_minor": 5
}
