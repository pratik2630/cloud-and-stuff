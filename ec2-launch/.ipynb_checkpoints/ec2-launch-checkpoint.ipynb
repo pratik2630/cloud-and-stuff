{
 "cells": [
  {
   "cell_type": "code",
   "execution_count": null,
   "id": "ec6cfd7c",
   "metadata": {},
   "outputs": [],
   "source": [
    "pip install boto3"
   ]
  },
  {
   "cell_type": "code",
   "execution_count": 27,
   "id": "e13a9568",
   "metadata": {},
   "outputs": [],
   "source": [
    "import boto3\n",
    "client = boto3.client('ec2')"
   ]
  },
  {
   "cell_type": "code",
   "execution_count": 4,
   "id": "d70df6e5",
   "metadata": {},
   "outputs": [],
   "source": []
  },
  {
   "cell_type": "markdown",
   "id": "fe5a57b2",
   "metadata": {},
   "source": [
    "# create instance"
   ]
  },
  {
   "cell_type": "code",
   "execution_count": 15,
   "id": "a0e3acf1",
   "metadata": {},
   "outputs": [
    {
     "name": "stdout",
     "output_type": "stream",
     "text": [
      "Instance name:test3\n",
      "Minimum count:1\n",
      "Miximum count:1\n"
     ]
    }
   ],
   "source": [
    "imgId=input(\"Instace id:\") #ami-0ded8326293d3201b\n",
    "name  = input(\"Instance name:\")\n",
    "instanceType = input(\"Instance Type:\") #t2.micro\n",
    "min = int(input(\"Minimum count:\")) #1\n",
    "max = int(input(\"Miximum count:\")) #1\n"
   ]
  },
  {
   "cell_type": "code",
   "execution_count": 16,
   "id": "2de87833",
   "metadata": {},
   "outputs": [
    {
     "name": "stdout",
     "output_type": "stream",
     "text": [
      "{'Groups': [], 'Instances': [{'AmiLaunchIndex': 0, 'ImageId': 'ami-0ded8326293d3201b', 'InstanceId': 'i-0da01826d1fa68f4c', 'InstanceType': 't2.micro', 'LaunchTime': datetime.datetime(2023, 8, 5, 22, 22, 53, tzinfo=tzutc()), 'Monitoring': {'State': 'disabled'}, 'Placement': {'AvailabilityZone': 'ap-south-1a', 'GroupName': '', 'Tenancy': 'default'}, 'PrivateDnsName': 'ip-172-31-41-48.ap-south-1.compute.internal', 'PrivateIpAddress': '172.31.41.48', 'ProductCodes': [], 'PublicDnsName': '', 'State': {'Code': 0, 'Name': 'pending'}, 'StateTransitionReason': '', 'SubnetId': 'subnet-02f33b33e19730f08', 'VpcId': 'vpc-03ab3834f77acd37f', 'Architecture': 'x86_64', 'BlockDeviceMappings': [], 'ClientToken': 'ae161b13-3d31-4f77-8032-9bffacbd2bfa', 'EbsOptimized': False, 'EnaSupport': True, 'Hypervisor': 'xen', 'NetworkInterfaces': [{'Attachment': {'AttachTime': datetime.datetime(2023, 8, 5, 22, 22, 53, tzinfo=tzutc()), 'AttachmentId': 'eni-attach-0b462e73ad54a8c6d', 'DeleteOnTermination': True, 'DeviceIndex': 0, 'Status': 'attaching', 'NetworkCardIndex': 0}, 'Description': '', 'Groups': [{'GroupName': 'default', 'GroupId': 'sg-090e664f8d4dbfd6f'}], 'Ipv6Addresses': [], 'MacAddress': '02:6f:6d:45:78:98', 'NetworkInterfaceId': 'eni-0c7e68ec52c9ce0c4', 'OwnerId': '147487995361', 'PrivateDnsName': 'ip-172-31-41-48.ap-south-1.compute.internal', 'PrivateIpAddress': '172.31.41.48', 'PrivateIpAddresses': [{'Primary': True, 'PrivateDnsName': 'ip-172-31-41-48.ap-south-1.compute.internal', 'PrivateIpAddress': '172.31.41.48'}], 'SourceDestCheck': True, 'Status': 'in-use', 'SubnetId': 'subnet-02f33b33e19730f08', 'VpcId': 'vpc-03ab3834f77acd37f', 'InterfaceType': 'interface'}], 'RootDeviceName': '/dev/xvda', 'RootDeviceType': 'ebs', 'SecurityGroups': [{'GroupName': 'default', 'GroupId': 'sg-090e664f8d4dbfd6f'}], 'SourceDestCheck': True, 'StateReason': {'Code': 'pending', 'Message': 'pending'}, 'Tags': [{'Key': 'Name', 'Value': 'test3'}], 'VirtualizationType': 'hvm', 'CpuOptions': {'CoreCount': 1, 'ThreadsPerCore': 1}, 'CapacityReservationSpecification': {'CapacityReservationPreference': 'open'}, 'MetadataOptions': {'State': 'pending', 'HttpTokens': 'required', 'HttpPutResponseHopLimit': 2, 'HttpEndpoint': 'enabled', 'HttpProtocolIpv6': 'disabled', 'InstanceMetadataTags': 'disabled'}, 'EnclaveOptions': {'Enabled': False}, 'BootMode': 'uefi-preferred', 'PrivateDnsNameOptions': {'HostnameType': 'ip-name', 'EnableResourceNameDnsARecord': False, 'EnableResourceNameDnsAAAARecord': False}, 'MaintenanceOptions': {'AutoRecovery': 'default'}, 'CurrentInstanceBootMode': 'legacy-bios'}], 'OwnerId': '147487995361', 'ReservationId': 'r-0ddbfa36d787dd368', 'ResponseMetadata': {'RequestId': '047003ea-639b-411a-990e-df6265584612', 'HTTPStatusCode': 200, 'HTTPHeaders': {'x-amzn-requestid': '047003ea-639b-411a-990e-df6265584612', 'cache-control': 'no-cache, no-store', 'strict-transport-security': 'max-age=31536000; includeSubDomains', 'vary': 'accept-encoding', 'content-type': 'text/xml;charset=UTF-8', 'content-length': '5799', 'date': 'Sat, 05 Aug 2023 22:22:52 GMT', 'server': 'AmazonEC2'}, 'RetryAttempts': 0}}\n"
     ]
    }
   ],
   "source": [
    "response = client.run_instances(\n",
    "    ImageId=imgId,\n",
    "    InstanceType=instanceType,\n",
    "    MinCount=min,\n",
    "    MaxCount=max,\n",
    "    TagSpecifications=[\n",
    "        {\n",
    "            'ResourceType': 'instance',\n",
    "            'Tags': [\n",
    "                {\n",
    "                    'Key': 'Name',\n",
    "                    'Value': name\n",
    "                },\n",
    "            ]\n",
    "        },\n",
    "    ])\n",
    "\n",
    "print(response)"
   ]
  },
  {
   "cell_type": "markdown",
   "id": "2d919caf",
   "metadata": {},
   "source": [
    "# Display instance"
   ]
  },
  {
   "cell_type": "code",
   "execution_count": 19,
   "id": "ad47cbc6",
   "metadata": {},
   "outputs": [
    {
     "name": "stdout",
     "output_type": "stream",
     "text": [
      "Instance ID: i-0b0581e1ed6949931, Name: test , State:running\n",
      "Instance ID: i-0da01826d1fa68f4c, Name: test3 , State:running\n",
      "Instance ID: i-0de11063de9363aec, Name: Test2 , State:running\n"
     ]
    }
   ],
   "source": [
    "response = client.describe_instances()\n",
    "\n",
    "# Loop through reservations and instances to extract instance ID and name\n",
    "for reservation in response['Reservations']:\n",
    "    for instance in reservation['Instances']:\n",
    "        instance_id = instance['InstanceId']\n",
    "        instance_name = ''\n",
    "        instance_state = instance['State']['Name'] \n",
    "        # Extract the 'Name' tag if it exists\n",
    "        for tag in instance['Tags']:\n",
    "            if tag['Key'] == 'Name':\n",
    "                instance_name = tag['Value']\n",
    "                break\n",
    "\n",
    "        print(f\"Instance ID: {instance_id}, Name: {instance_name} , State:{instance_state}\")"
   ]
  },
  {
   "cell_type": "markdown",
   "id": "61d9a945",
   "metadata": {},
   "source": [
    "# Delete instance"
   ]
  },
  {
   "cell_type": "code",
   "execution_count": 20,
   "id": "2f1eb354",
   "metadata": {},
   "outputs": [
    {
     "name": "stdout",
     "output_type": "stream",
     "text": [
      "Enter instance id:i-0b0581e1ed6949931\n"
     ]
    }
   ],
   "source": [
    "instanceId = input(\"Enter instance id:\")"
   ]
  },
  {
   "cell_type": "code",
   "execution_count": 26,
   "id": "dc4c0370",
   "metadata": {},
   "outputs": [
    {
     "name": "stdout",
     "output_type": "stream",
     "text": [
      "{'TerminatingInstances': [{'CurrentState': {'Code': 48, 'Name': 'terminated'}, 'InstanceId': 'i-0b0581e1ed6949931', 'PreviousState': {'Code': 48, 'Name': 'terminated'}}], 'ResponseMetadata': {'RequestId': '580e4e32-a18a-402b-a2cb-605fb0eeae33', 'HTTPStatusCode': 200, 'HTTPHeaders': {'x-amzn-requestid': '580e4e32-a18a-402b-a2cb-605fb0eeae33', 'cache-control': 'no-cache, no-store', 'strict-transport-security': 'max-age=31536000; includeSubDomains', 'vary': 'accept-encoding', 'content-type': 'text/xml;charset=UTF-8', 'transfer-encoding': 'chunked', 'date': 'Sat, 05 Aug 2023 22:28:23 GMT', 'server': 'AmazonEC2'}, 'RetryAttempts': 0}}\n"
     ]
    }
   ],
   "source": [
    "try:\n",
    "    response = client.terminate_instances(InstanceIds=[instanceId])\n",
    "    print(response)\n",
    "except Exception as e:\n",
    "    print(\"error================\")\n",
    "    print(f\"An error occurred: {str(e)}\")"
   ]
  },
  {
   "cell_type": "code",
   "execution_count": null,
   "id": "c397f7df",
   "metadata": {},
   "outputs": [],
   "source": []
  },
  {
   "cell_type": "code",
   "execution_count": null,
   "id": "d18bfba9",
   "metadata": {},
   "outputs": [],
   "source": []
  }
 ],
 "metadata": {
  "kernelspec": {
   "display_name": "Python 3 (ipykernel)",
   "language": "python",
   "name": "python3"
  },
  "language_info": {
   "codemirror_mode": {
    "name": "ipython",
    "version": 3
   },
   "file_extension": ".py",
   "mimetype": "text/x-python",
   "name": "python",
   "nbconvert_exporter": "python",
   "pygments_lexer": "ipython3",
   "version": "3.10.9"
  }
 },
 "nbformat": 4,
 "nbformat_minor": 5
}
